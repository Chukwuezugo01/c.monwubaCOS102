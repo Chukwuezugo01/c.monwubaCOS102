{
 "cells": [
  {
   "cell_type": "code",
   "execution_count": 3,
   "id": "47290c3b-e1b1-42b7-94fa-f0598542ef8c",
   "metadata": {},
   "outputs": [],
   "source": [
    "\n",
    " import csv\n",
    "import tkinter as tk\n",
    "\n",
    "\n",
    "def display_data():\n",
    "\n",
    "    text_area.delete(1.0, tk.END)  # Clear the text area before displaying new data\n",
    "\n",
    "def submit():\n",
    "    user_surname = surname_entry.get()\n",
    "    user_department = department_entry.get()\n",
    "    found = False\n",
    "\n",
    "    with open(r'C:\\Users\\kingu\\OneDrive\\Documents\\c.monwubaCOS102\\Week 5\\GIG-logistics.csv', 'r') as csv_file:\n",
    "        csv_reader = csv.DictReader(csv_file)\n",
    "\n",
    "        for line in csv_reader:\n",
    "            if line['DEPARTMENT'] ==       user_department:\n",
    "                text_area.insert(tk.END, f\"{line['SURNAME']}, {line['DEPARTMENT']}\\n\")\n",
    "                found = True\n",
    "    if not found:\n",
    "        text_area.insert(tk.END, \"User does not exist\")\n",
    "\n",
    "\n",
    "\n",
    "\n",
    "# Create the Tkinter window\n",
    "\n",
    "root = tk.Tk()\n",
    "root.title(\"Home\")\n",
    "\n",
    "# Create a Text widget to display the data\n",
    "text_area = tk.Text(root)\n",
    "text_area.pack(fill=tk.BOTH, expand=True)\n",
    "\n",
    "# Button to trigger displaying the data\n",
    "surname_label = tk.Label(root, text=\"SURNAME:\")\n",
    "surname_label.pack()\n",
    "surname_entry = tk.Entry(root)\n",
    "surname_entry.pack()\n",
    "\n",
    "department_label = tk.Label(root, text=\"DEPARTMENT:\")\n",
    "department_label.pack()\n",
    "department_entry = tk.Entry(root)\n",
    "department_entry.pack()\n",
    "\n",
    "\n",
    "submit_button = tk.Button(root, text=\"Submit\", command=submit)\n",
    "submit_button.pack()\n",
    "\n",
    "\n",
    "# Run the Tkinter event loop\n",
    "root.mainloop()\n"
   ]
  },
  {
   "cell_type": "code",
   "execution_count": null,
   "id": "5ebb19b9-7be2-457b-9a16-302c7692b8e5",
   "metadata": {},
   "outputs": [],
   "source": []
  },
  {
   "cell_type": "code",
   "execution_count": null,
   "id": "81f90c8d-04b7-4c59-85a9-cc7236c7a4f9",
   "metadata": {},
   "outputs": [],
   "source": []
  },
  {
   "cell_type": "code",
   "execution_count": null,
   "id": "ad2226a8-c797-4a54-ad5d-4ffaafc6e77e",
   "metadata": {},
   "outputs": [],
   "source": []
  },
  {
   "cell_type": "code",
   "execution_count": null,
   "id": "65feae44-ace2-41a7-b056-dedf4a4fea16",
   "metadata": {},
   "outputs": [],
   "source": []
  }
 ],
 "metadata": {
  "kernelspec": {
   "display_name": "Python 3 (ipykernel)",
   "language": "python",
   "name": "python3"
  },
  "language_info": {
   "codemirror_mode": {
    "name": "ipython",
    "version": 3
   },
   "file_extension": ".py",
   "mimetype": "text/x-python",
   "name": "python",
   "nbconvert_exporter": "python",
   "pygments_lexer": "ipython3",
   "version": "3.11.7"
  }
 },
 "nbformat": 4,
 "nbformat_minor": 5
}
