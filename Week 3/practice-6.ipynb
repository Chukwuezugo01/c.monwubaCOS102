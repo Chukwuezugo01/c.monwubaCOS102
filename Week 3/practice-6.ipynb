{
 "cells": [
  {
   "cell_type": "code",
   "execution_count": 1,
   "id": "2126dadc-4b5f-4f23-8300-a0fccb91a169",
   "metadata": {},
   "outputs": [
    {
     "name": "stdout",
     "output_type": "stream",
     "text": [
      "Grade = 70\n",
      "GPA = 4\n",
      "CGPA = 4\n"
     ]
    }
   ],
   "source": [
    "# Convert to int\n",
    "\n",
    "grade = int(70)     # grade will be 70\n",
    "gpa = int(4.9)      # gpa will be 4.9\n",
    "cgpa = int(\"4\")     # cgpa will be 4\n",
    "\n",
    "print(f\"Grade = {grade}\")\n",
    "print(f\"GPA = {gpa}\")\n",
    "print(f\"CGPA = {cgpa}\")"
   ]
  },
  {
   "cell_type": "code",
   "execution_count": null,
   "id": "5fc9d8a1-3f84-4532-a2fb-9b6a980a5b56",
   "metadata": {},
   "outputs": [],
   "source": []
  }
 ],
 "metadata": {
  "kernelspec": {
   "display_name": "Python 3 (ipykernel)",
   "language": "python",
   "name": "python3"
  },
  "language_info": {
   "codemirror_mode": {
    "name": "ipython",
    "version": 3
   },
   "file_extension": ".py",
   "mimetype": "text/x-python",
   "name": "python",
   "nbconvert_exporter": "python",
   "pygments_lexer": "ipython3",
   "version": "3.11.7"
  }
 },
 "nbformat": 4,
 "nbformat_minor": 5
}
