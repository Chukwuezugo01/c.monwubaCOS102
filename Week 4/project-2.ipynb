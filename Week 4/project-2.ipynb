{
 "cells": [
  {
   "cell_type": "code",
   "execution_count": 7,
   "id": "7d9f68d9-149a-400d-9ad6-3587ebda94a1",
   "metadata": {},
   "outputs": [
    {
     "name": "stdout",
     "output_type": "stream",
     "text": [
      "Izfifin Technology Annual Tax Revenue(ATR) Payment\n"
     ]
    },
    {
     "name": "stdin",
     "output_type": "stream",
     "text": [
      "How many years of work experience do you have?  5\n",
      "How old are you?  30\n"
     ]
    },
    {
     "name": "stdout",
     "output_type": "stream",
     "text": [
      "ATR = N550,000\n"
     ]
    }
   ],
   "source": [
    "print(\"Izfifin Technology Annual Tax Revenue(ATR) Payment\")\n",
    "\n",
    "wrk_exp = input(\"How many years of work experience do you have? \")\n",
    "age = input(\"How old are you? \")\n",
    "\n",
    "if int(wrk_exp) > 25 and int(age) >= 55:\n",
    "    print(\"ATR = N5,600,000\")\n",
    "\n",
    "elif int(wrk_exp) > 20 and int(age) >= 45:\n",
    "    print (\"ATR = N4,440,000\")\n",
    "\n",
    "elif int(wrk_exp) > 10 and int(age) >= 35:\n",
    "    print(\"ATR = N1,500,000\")\n",
    "\n",
    "elif int(wrk_exp) < 10 and int(age) < 35:\n",
    "    print(\"ATR = N550,000\")"
   ]
  },
  {
   "cell_type": "code",
   "execution_count": null,
   "id": "ac530b25-30d9-4a2b-95bc-45437293a1af",
   "metadata": {},
   "outputs": [],
   "source": []
  }
 ],
 "metadata": {
  "kernelspec": {
   "display_name": "Python 3 (ipykernel)",
   "language": "python",
   "name": "python3"
  },
  "language_info": {
   "codemirror_mode": {
    "name": "ipython",
    "version": 3
   },
   "file_extension": ".py",
   "mimetype": "text/x-python",
   "name": "python",
   "nbconvert_exporter": "python",
   "pygments_lexer": "ipython3",
   "version": "3.11.7"
  }
 },
 "nbformat": 4,
 "nbformat_minor": 5
}
