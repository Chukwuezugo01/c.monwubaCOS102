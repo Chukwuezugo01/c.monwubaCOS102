{
 "cells": [
  {
   "cell_type": "code",
   "execution_count": null,
   "id": "e2ba7f36-433e-41ad-bba1-366c52bf3f39",
   "metadata": {},
   "outputs": [],
   "source": [
    "# Python program to swap two cities\n",
    "\n",
    "# To take inputs from the user \n",
    "city_1 = input('Enter name of city 1: ')\n",
    "city_2 = input('Enter name of city 2: ')\n",
    "\n",
    "# create a temporary variable and swap the cities\n",
    "temp = city_1\n",
    "city_1 = city_2\n",
    "city_2 = temp\n",
    "\n",
    "print(\"The name of City 1 after swapping is\", city_1)\n",
    "print(f\"The name of City 2 after swapping is {city_2}\")\n"
   ]
  },
  {
   "cell_type": "code",
   "execution_count": null,
   "id": "8c8fce39-5de5-49c8-94d7-ff5c9aa54569",
   "metadata": {},
   "outputs": [],
   "source": []
  }
 ],
 "metadata": {
  "kernelspec": {
   "display_name": "Python 3 (ipykernel)",
   "language": "python",
   "name": "python3"
  },
  "language_info": {
   "codemirror_mode": {
    "name": "ipython",
    "version": 3
   },
   "file_extension": ".py",
   "mimetype": "text/x-python",
   "name": "python",
   "nbconvert_exporter": "python",
   "pygments_lexer": "ipython3",
   "version": "3.11.7"
  }
 },
 "nbformat": 4,
 "nbformat_minor": 5
}
