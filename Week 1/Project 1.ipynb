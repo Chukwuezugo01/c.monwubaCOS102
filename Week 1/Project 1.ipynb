{
 "cells": [
  {
   "cell_type": "code",
   "execution_count": 7,
   "id": "dc887fd4-7939-4d3e-a4d4-096385c20e3e",
   "metadata": {},
   "outputs": [
    {
     "name": "stdout",
     "output_type": "stream",
     "text": [
      "25.76\n"
     ]
    }
   ],
   "source": [
    "P = 23\n",
    "R = 4\n",
    "T = 3\n",
    "A = P * (1 + (R/100)*T)\n",
    "\n",
    "print(A)\n"
   ]
  },
  {
   "cell_type": "code",
   "execution_count": 9,
   "id": "44651aa8-b17e-4bfc-9e0d-700e542907a7",
   "metadata": {},
   "outputs": [
    {
     "name": "stdout",
     "output_type": "stream",
     "text": [
      "83\n"
     ]
    }
   ],
   "source": [
    "P = 45\n",
    "R = 5\n",
    "n = 3.2\n",
    "t = 3\n",
    "A = P * (1 + int(R/n)) ^ int(n*t)\n",
    "\n",
    "print (A)"
   ]
  },
  {
   "cell_type": "code",
   "execution_count": 21,
   "id": "9d951bf1-279d-474a-b1b1-c29a591b41a6",
   "metadata": {},
   "outputs": [
    {
     "name": "stdout",
     "output_type": "stream",
     "text": [
      "25920.0\n"
     ]
    }
   ],
   "source": [
    "P = 27\n",
    "M = 32\n",
    "T = 5\n",
    "R =  2\n",
    "n = 1.2\n",
    "t = 4.5\n",
    "\n",
    "A = (P * M * T) * ((1 + int(R/n) ^ int(n * t) - 1)) / int(R/n)\n",
    "\n",
    "print (A)\n",
    "                        "
   ]
  },
  {
   "cell_type": "code",
   "execution_count": null,
   "id": "ed19094d-9f44-4201-8aed-cae949711d2a",
   "metadata": {},
   "outputs": [],
   "source": []
  }
 ],
 "metadata": {
  "kernelspec": {
   "display_name": "Python 3 (ipykernel)",
   "language": "python",
   "name": "python3"
  },
  "language_info": {
   "codemirror_mode": {
    "name": "ipython",
    "version": 3
   },
   "file_extension": ".py",
   "mimetype": "text/x-python",
   "name": "python",
   "nbconvert_exporter": "python",
   "pygments_lexer": "ipython3",
   "version": "3.11.7"
  }
 },
 "nbformat": 4,
 "nbformat_minor": 5
}
